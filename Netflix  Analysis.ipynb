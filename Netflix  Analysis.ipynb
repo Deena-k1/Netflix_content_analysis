{
 "cells": [
  {
   "cell_type": "markdown",
   "id": "9240e797",
   "metadata": {},
   "source": [
    "#  Analysis of User Engagement on Netflix\n",
    "\n",
    "\n",
    "\n",
    "## 1.1 Project Overview\n",
    "Netflix, one of the world's leading streaming platforms, continually seeks to enhance user experience by understanding viewer engagement. This project explores the factors that drive user engagement on Netflix, focusing on metrics such as ratings and watchtime.\n",
    "\n",
    "## 1.2 Goals and Objectives\n",
    "- Identify key factors influencing user engagement.\n",
    "- Analyze how these factors vary across different regions.\n",
    "- Provide recommendations to improve content recommendations and viewer satisfaction.\n",
    "\n",
    "## 1.3 Methodology\n",
    "We will use a combination of data from the IMDB API, TMDB API, and various Netflix-related datasets available on Kaggle. The analysis will involve data cleaning, exploratory data analysis, feature engineering, statistical analysis, and predictive modeling.\n"
   ]
  },
  {
   "cell_type": "code",
   "execution_count": 70,
   "id": "9f72ffd8",
   "metadata": {},
   "outputs": [],
   "source": [
    "# Load datasets\n",
    "import pandas as pd\n",
    "import numpy as np  #- for cleaning and manipulation of data\n",
    "\n",
    "import matplotlib.pyplot as plt\n",
    "import seaborn as sns #-for dizualisation of data\n",
    "\n",
    "from scipy import stats\n",
    "from sklearn.model_selection import train_test_split\n",
    "from sklearn.linear_model import LinearRegression\n",
    "from sklearn.ensemble import RandomForestRegressor #- for analysis and modelling\n",
    "\n",
    "import requests\n",
    "import json #- for API\n",
    "\n",
    "#import geopandas as gpd\n",
    "import folium #- for geographical Analysis\n"
   ]
  },
  {
   "cell_type": "code",
   "execution_count": 71,
   "id": "274ce375",
   "metadata": {},
   "outputs": [],
   "source": [
    "netflix_titles= pd.read_csv(r\"C:\\Users\\DELL\\OneDrive\\Desktop\\Netflix_project\\netflix_titles.csv\")\n",
    "#dataset_2 = pd.read_csv('path to dataset_2.csv')"
   ]
  },
  {
   "cell_type": "code",
   "execution_count": 72,
   "id": "dfb39d1d",
   "metadata": {},
   "outputs": [
    {
     "data": {
      "text/html": [
       "<div>\n",
       "<style scoped>\n",
       "    .dataframe tbody tr th:only-of-type {\n",
       "        vertical-align: middle;\n",
       "    }\n",
       "\n",
       "    .dataframe tbody tr th {\n",
       "        vertical-align: top;\n",
       "    }\n",
       "\n",
       "    .dataframe thead th {\n",
       "        text-align: right;\n",
       "    }\n",
       "</style>\n",
       "<table border=\"1\" class=\"dataframe\">\n",
       "  <thead>\n",
       "    <tr style=\"text-align: right;\">\n",
       "      <th></th>\n",
       "      <th>show_id</th>\n",
       "      <th>type</th>\n",
       "      <th>title</th>\n",
       "      <th>director</th>\n",
       "      <th>cast</th>\n",
       "      <th>country</th>\n",
       "      <th>date_added</th>\n",
       "      <th>release_year</th>\n",
       "      <th>rating</th>\n",
       "      <th>duration</th>\n",
       "      <th>listed_in</th>\n",
       "      <th>description</th>\n",
       "    </tr>\n",
       "  </thead>\n",
       "  <tbody>\n",
       "    <tr>\n",
       "      <th>0</th>\n",
       "      <td>s1</td>\n",
       "      <td>Movie</td>\n",
       "      <td>Dick Johnson Is Dead</td>\n",
       "      <td>Kirsten Johnson</td>\n",
       "      <td>NaN</td>\n",
       "      <td>United States</td>\n",
       "      <td>September 25, 2021</td>\n",
       "      <td>2020</td>\n",
       "      <td>PG-13</td>\n",
       "      <td>90 min</td>\n",
       "      <td>Documentaries</td>\n",
       "      <td>As her father nears the end of his life, filmm...</td>\n",
       "    </tr>\n",
       "    <tr>\n",
       "      <th>1</th>\n",
       "      <td>s2</td>\n",
       "      <td>TV Show</td>\n",
       "      <td>Blood &amp; Water</td>\n",
       "      <td>NaN</td>\n",
       "      <td>Ama Qamata, Khosi Ngema, Gail Mabalane, Thaban...</td>\n",
       "      <td>South Africa</td>\n",
       "      <td>September 24, 2021</td>\n",
       "      <td>2021</td>\n",
       "      <td>TV-MA</td>\n",
       "      <td>2 Seasons</td>\n",
       "      <td>International TV Shows, TV Dramas, TV Mysteries</td>\n",
       "      <td>After crossing paths at a party, a Cape Town t...</td>\n",
       "    </tr>\n",
       "    <tr>\n",
       "      <th>2</th>\n",
       "      <td>s3</td>\n",
       "      <td>TV Show</td>\n",
       "      <td>Ganglands</td>\n",
       "      <td>Julien Leclercq</td>\n",
       "      <td>Sami Bouajila, Tracy Gotoas, Samuel Jouy, Nabi...</td>\n",
       "      <td>NaN</td>\n",
       "      <td>September 24, 2021</td>\n",
       "      <td>2021</td>\n",
       "      <td>TV-MA</td>\n",
       "      <td>1 Season</td>\n",
       "      <td>Crime TV Shows, International TV Shows, TV Act...</td>\n",
       "      <td>To protect his family from a powerful drug lor...</td>\n",
       "    </tr>\n",
       "    <tr>\n",
       "      <th>3</th>\n",
       "      <td>s4</td>\n",
       "      <td>TV Show</td>\n",
       "      <td>Jailbirds New Orleans</td>\n",
       "      <td>NaN</td>\n",
       "      <td>NaN</td>\n",
       "      <td>NaN</td>\n",
       "      <td>September 24, 2021</td>\n",
       "      <td>2021</td>\n",
       "      <td>TV-MA</td>\n",
       "      <td>1 Season</td>\n",
       "      <td>Docuseries, Reality TV</td>\n",
       "      <td>Feuds, flirtations and toilet talk go down amo...</td>\n",
       "    </tr>\n",
       "    <tr>\n",
       "      <th>4</th>\n",
       "      <td>s5</td>\n",
       "      <td>TV Show</td>\n",
       "      <td>Kota Factory</td>\n",
       "      <td>NaN</td>\n",
       "      <td>Mayur More, Jitendra Kumar, Ranjan Raj, Alam K...</td>\n",
       "      <td>India</td>\n",
       "      <td>September 24, 2021</td>\n",
       "      <td>2021</td>\n",
       "      <td>TV-MA</td>\n",
       "      <td>2 Seasons</td>\n",
       "      <td>International TV Shows, Romantic TV Shows, TV ...</td>\n",
       "      <td>In a city of coaching centers known to train I...</td>\n",
       "    </tr>\n",
       "  </tbody>\n",
       "</table>\n",
       "</div>"
      ],
      "text/plain": [
       "  show_id     type                  title         director  \\\n",
       "0      s1    Movie   Dick Johnson Is Dead  Kirsten Johnson   \n",
       "1      s2  TV Show          Blood & Water              NaN   \n",
       "2      s3  TV Show              Ganglands  Julien Leclercq   \n",
       "3      s4  TV Show  Jailbirds New Orleans              NaN   \n",
       "4      s5  TV Show           Kota Factory              NaN   \n",
       "\n",
       "                                                cast        country  \\\n",
       "0                                                NaN  United States   \n",
       "1  Ama Qamata, Khosi Ngema, Gail Mabalane, Thaban...   South Africa   \n",
       "2  Sami Bouajila, Tracy Gotoas, Samuel Jouy, Nabi...            NaN   \n",
       "3                                                NaN            NaN   \n",
       "4  Mayur More, Jitendra Kumar, Ranjan Raj, Alam K...          India   \n",
       "\n",
       "           date_added  release_year rating   duration  \\\n",
       "0  September 25, 2021          2020  PG-13     90 min   \n",
       "1  September 24, 2021          2021  TV-MA  2 Seasons   \n",
       "2  September 24, 2021          2021  TV-MA   1 Season   \n",
       "3  September 24, 2021          2021  TV-MA   1 Season   \n",
       "4  September 24, 2021          2021  TV-MA  2 Seasons   \n",
       "\n",
       "                                           listed_in  \\\n",
       "0                                      Documentaries   \n",
       "1    International TV Shows, TV Dramas, TV Mysteries   \n",
       "2  Crime TV Shows, International TV Shows, TV Act...   \n",
       "3                             Docuseries, Reality TV   \n",
       "4  International TV Shows, Romantic TV Shows, TV ...   \n",
       "\n",
       "                                         description  \n",
       "0  As her father nears the end of his life, filmm...  \n",
       "1  After crossing paths at a party, a Cape Town t...  \n",
       "2  To protect his family from a powerful drug lor...  \n",
       "3  Feuds, flirtations and toilet talk go down amo...  \n",
       "4  In a city of coaching centers known to train I...  "
      ]
     },
     "execution_count": 72,
     "metadata": {},
     "output_type": "execute_result"
    }
   ],
   "source": [
    "# Display te inital rows of both datasets\n",
    "netflix_titles.head() #dataset_2.head()"
   ]
  },
  {
   "cell_type": "code",
   "execution_count": 73,
   "id": "36ea7e7c",
   "metadata": {},
   "outputs": [
    {
     "name": "stdout",
     "output_type": "stream",
     "text": [
      "\n",
      "DataFrame after dropping the columns:\n",
      "\n",
      "<class 'pandas.core.frame.DataFrame'>\n",
      "RangeIndex: 8807 entries, 0 to 8806\n",
      "Data columns (total 12 columns):\n",
      " #   Column        Non-Null Count  Dtype \n",
      "---  ------        --------------  ----- \n",
      " 0   show_id       8807 non-null   object\n",
      " 1   type          8807 non-null   object\n",
      " 2   title         8807 non-null   object\n",
      " 3   director      6173 non-null   object\n",
      " 4   cast          7982 non-null   object\n",
      " 5   country       7976 non-null   object\n",
      " 6   date_added    8797 non-null   object\n",
      " 7   release_year  8807 non-null   int64 \n",
      " 8   rating        8803 non-null   object\n",
      " 9   duration      8804 non-null   object\n",
      " 10  listed_in     8807 non-null   object\n",
      " 11  description   8807 non-null   object\n",
      "dtypes: int64(1), object(11)\n",
      "memory usage: 825.8+ KB\n",
      "None\n"
     ]
    }
   ],
   "source": [
    "#column_drop = 'description'\n",
    "\n",
    "#netflix_titles.drop(columns=[column_drop], inplace=True)\n",
    "print(\"\\nDataFrame after dropping the columns:\\n\")\n",
    "print(netflix_titles.info())"
   ]
  },
  {
   "cell_type": "code",
   "execution_count": 74,
   "id": "3dc5d4a3",
   "metadata": {},
   "outputs": [
    {
     "name": "stdout",
     "output_type": "stream",
     "text": [
      "0    September 25, 2021\n",
      "1    September 24, 2021\n",
      "2    September 24, 2021\n",
      "3    September 24, 2021\n",
      "4    September 24, 2021\n",
      "Name: date, dtype: object\n"
     ]
    }
   ],
   "source": [
    "netflix_titles.rename(columns={\"date_added\": \"date\", \"listed_in\": \"genre\"}, inplace=True)\n",
    "print(netflix_titles['date'].head())\n"
   ]
  },
  {
   "cell_type": "code",
   "execution_count": 75,
   "id": "fe15c801",
   "metadata": {
    "scrolled": true
   },
   "outputs": [
    {
     "name": "stdout",
     "output_type": "stream",
     "text": [
      "0    September 25, 2021\n",
      "1    September 24, 2021\n",
      "2    September 24, 2021\n",
      "3    September 24, 2021\n",
      "4    September 24, 2021\n",
      "Name: date, dtype: object\n"
     ]
    }
   ],
   "source": [
    "print(netflix_titles['date'].head())"
   ]
  },
  {
   "cell_type": "markdown",
   "id": "ad911aa0",
   "metadata": {},
   "source": [
    "It's more appropriate to convert the date_added to a datetime data- type in pandas for better handling of date-related operations."
   ]
  },
  {
   "cell_type": "markdown",
   "id": "3d693ea3",
   "metadata": {},
   "source": []
  },
  {
   "cell_type": "code",
   "execution_count": 76,
   "id": "11ebfcbe",
   "metadata": {},
   "outputs": [],
   "source": [
    "netflix_titles['date'] = pd.to_datetime(netflix_titles['date'],format = '%B %d, %Y', errors='coerce')"
   ]
  },
  {
   "cell_type": "code",
   "execution_count": 77,
   "id": "623ac016",
   "metadata": {},
   "outputs": [
    {
     "name": "stdout",
     "output_type": "stream",
     "text": [
      "\n",
      " date column with datetime datatype: \n",
      "\n",
      "0   2021-09-25\n",
      "1   2021-09-24\n",
      "2   2021-09-24\n",
      "3   2021-09-24\n",
      "4   2021-09-24\n",
      "Name: date, dtype: datetime64[ns]\n"
     ]
    }
   ],
   "source": [
    "print('\\n date column with datetime datatype: \\n')\n",
    "print(netflix_titles['date'].head())\n"
   ]
  },
  {
   "cell_type": "markdown",
   "id": "2d5581f4",
   "metadata": {},
   "source": [
    "Out of 8807 rows of data, column 'country' has 7976 non null values, instead of deleting rows with null values, we can fill them with the value 'unknown', so that we don't lose out on valueable data"
   ]
  },
  {
   "cell_type": "code",
   "execution_count": 78,
   "id": "18bf9e64",
   "metadata": {},
   "outputs": [],
   "source": [
    "netflix_titles['country'].fillna('Unknown', inplace=True)"
   ]
  },
  {
   "cell_type": "code",
   "execution_count": 79,
   "id": "40fd4fe0",
   "metadata": {},
   "outputs": [
    {
     "name": "stdout",
     "output_type": "stream",
     "text": [
      "Having no 'null' values in the country column: \n",
      "\n",
      "<class 'pandas.core.series.Series'>\n",
      "RangeIndex: 8807 entries, 0 to 8806\n",
      "Series name: country\n",
      "Non-Null Count  Dtype \n",
      "--------------  ----- \n",
      "8807 non-null   object\n",
      "dtypes: object(1)\n",
      "memory usage: 68.9+ KB\n",
      "None\n"
     ]
    }
   ],
   "source": [
    "print(\"Having no 'null' values in the country column: \\n\")\n",
    "print(netflix_titles['country'].info())"
   ]
  },
  {
   "cell_type": "code",
   "execution_count": 80,
   "id": "3632347f",
   "metadata": {},
   "outputs": [],
   "source": [
    "netflix_titles['rating'].fillna('Not Rated', inplace=True)\n",
    "netflix_titles['release_year'].fillna('Unkown', inplace=True)"
   ]
  },
  {
   "cell_type": "code",
   "execution_count": 81,
   "id": "e6cfc50c",
   "metadata": {},
   "outputs": [
    {
     "name": "stdout",
     "output_type": "stream",
     "text": [
      "\n",
      " Number of missing dates: 98\n"
     ]
    }
   ],
   "source": [
    "missing_dates = netflix_titles['date'].isnull().sum()\n",
    "print(f\"\\n Number of missing dates: {missing_dates}\")"
   ]
  },
  {
   "cell_type": "code",
   "execution_count": 82,
   "id": "127c2cde",
   "metadata": {},
   "outputs": [],
   "source": [
    "duplicate_rows = netflix_titles[netflix_titles.duplicated()]\n"
   ]
  },
  {
   "cell_type": "code",
   "execution_count": 53,
   "id": "d22d89e1",
   "metadata": {},
   "outputs": [
    {
     "name": "stdout",
     "output_type": "stream",
     "text": [
      "\n",
      "Number of duplicate rows: 0\n"
     ]
    }
   ],
   "source": [
    "duplicate_rows = netflix_titles[netflix_titles.duplicated()]\n",
    "print(f\"\\nNumber of duplicate rows: {duplicate_rows.shape[0]}\")\n"
   ]
  },
  {
   "cell_type": "code",
   "execution_count": 83,
   "id": "714b90fc",
   "metadata": {},
   "outputs": [
    {
     "name": "stdout",
     "output_type": "stream",
     "text": [
      "<class 'pandas.core.frame.DataFrame'>\n",
      "RangeIndex: 8807 entries, 0 to 8806\n",
      "Data columns (total 12 columns):\n",
      " #   Column        Non-Null Count  Dtype         \n",
      "---  ------        --------------  -----         \n",
      " 0   show_id       8807 non-null   object        \n",
      " 1   type          8807 non-null   object        \n",
      " 2   title         8807 non-null   object        \n",
      " 3   director      6173 non-null   object        \n",
      " 4   cast          7982 non-null   object        \n",
      " 5   country       8807 non-null   object        \n",
      " 6   date          8709 non-null   datetime64[ns]\n",
      " 7   release_year  8807 non-null   int64         \n",
      " 8   rating        8807 non-null   object        \n",
      " 9   duration      8804 non-null   object        \n",
      " 10  genre         8807 non-null   object        \n",
      " 11  description   8807 non-null   object        \n",
      "dtypes: datetime64[ns](1), int64(1), object(10)\n",
      "memory usage: 825.8+ KB\n"
     ]
    }
   ],
   "source": [
    "netflix_titles.info()"
   ]
  },
  {
   "cell_type": "code",
   "execution_count": null,
   "id": "aa0d4018",
   "metadata": {},
   "outputs": [],
   "source": [
    "show_movie_count"
   ]
  },
  {
   "cell_type": "code",
   "execution_count": 86,
   "id": "5a367bff",
   "metadata": {},
   "outputs": [
    {
     "data": {
      "text/html": [
       "<div>\n",
       "<style scoped>\n",
       "    .dataframe tbody tr th:only-of-type {\n",
       "        vertical-align: middle;\n",
       "    }\n",
       "\n",
       "    .dataframe tbody tr th {\n",
       "        vertical-align: top;\n",
       "    }\n",
       "\n",
       "    .dataframe thead th {\n",
       "        text-align: right;\n",
       "    }\n",
       "</style>\n",
       "<table border=\"1\" class=\"dataframe\">\n",
       "  <thead>\n",
       "    <tr style=\"text-align: right;\">\n",
       "      <th></th>\n",
       "      <th>type</th>\n",
       "      <th>count</th>\n",
       "    </tr>\n",
       "  </thead>\n",
       "  <tbody>\n",
       "    <tr>\n",
       "      <th>0</th>\n",
       "      <td>Movie</td>\n",
       "      <td>6131</td>\n",
       "    </tr>\n",
       "    <tr>\n",
       "      <th>1</th>\n",
       "      <td>TV Show</td>\n",
       "      <td>2676</td>\n",
       "    </tr>\n",
       "  </tbody>\n",
       "</table>\n",
       "</div>"
      ],
      "text/plain": [
       "      type  count\n",
       "0    Movie   6131\n",
       "1  TV Show   2676"
      ]
     },
     "execution_count": 86,
     "metadata": {},
     "output_type": "execute_result"
    }
   ],
   "source": [
    "show_movie_count = netflix_titles['type'].value_counts().reset_index()\n",
    "show_movie_count"
   ]
  },
  {
   "cell_type": "code",
   "execution_count": null,
   "id": "ba7603e9",
   "metadata": {},
   "outputs": [],
   "source": []
  }
 ],
 "metadata": {
  "kernelspec": {
   "display_name": "Python 3 (ipykernel)",
   "language": "python",
   "name": "python3"
  },
  "language_info": {
   "codemirror_mode": {
    "name": "ipython",
    "version": 3
   },
   "file_extension": ".py",
   "mimetype": "text/x-python",
   "name": "python",
   "nbconvert_exporter": "python",
   "pygments_lexer": "ipython3",
   "version": "3.11.5"
  }
 },
 "nbformat": 4,
 "nbformat_minor": 5
}
